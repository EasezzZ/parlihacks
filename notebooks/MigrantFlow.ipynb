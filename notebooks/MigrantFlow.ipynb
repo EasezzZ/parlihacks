{
 "cells": [
  {
   "cell_type": "markdown",
   "metadata": {},
   "source": [
    "# Migrant Flows - Sankey Diagram Demo\n",
    "\n",
    "A demonstration of how to use the `ipysankeywidget` package to generate a Sankey diagram from a `pandas` dataframe.\n",
    "\n",
    "This notebook also demonstrates how widget libraries can also be thought of as *code generators* capable of generating reusable code that can be used directly elsewhere, or can be treated as an automatically generated \"first draft\" of the code for interactive chart that can be further enhanced and edited by hand to produce a more polished production quality output.\n",
    "\n",
    "Originally motivated by Oli Hawkins' [Internal migration flows in the UK](http://olihawkins.com/visualisation/8) [[about](http://olihawkins.com/2017/03/1)]."
   ]
  },
  {
   "cell_type": "code",
   "execution_count": 1,
   "metadata": {
    "collapsed": false,
    "deletable": true,
    "editable": true
   },
   "outputs": [],
   "source": [
    "#!pip3 install ipysankeywidget\n",
    "#!jupyter nbextension enable --py --sys-prefix ipysankeywidget"
   ]
  },
  {
   "cell_type": "code",
   "execution_count": 34,
   "metadata": {
    "collapsed": false,
    "deletable": true,
    "editable": true
   },
   "outputs": [
    {
     "data": {
      "text/html": [
       "<div>\n",
       "<table border=\"1\" class=\"dataframe\">\n",
       "  <thead>\n",
       "    <tr style=\"text-align: right;\">\n",
       "      <th></th>\n",
       "      <th>DESTINATION</th>\n",
       "      <th>Region</th>\n",
       "      <th>E12000001</th>\n",
       "      <th>E12000002</th>\n",
       "      <th>E12000003</th>\n",
       "      <th>E12000004</th>\n",
       "      <th>E12000005</th>\n",
       "      <th>E12000006</th>\n",
       "      <th>E12000007</th>\n",
       "      <th>E12000008</th>\n",
       "      <th>E12000009</th>\n",
       "      <th>W92000004</th>\n",
       "      <th>S92000003</th>\n",
       "      <th>N92000002</th>\n",
       "    </tr>\n",
       "  </thead>\n",
       "  <tbody>\n",
       "    <tr>\n",
       "      <th>0</th>\n",
       "      <td>North East</td>\n",
       "      <td>E12000001</td>\n",
       "      <td>NaN</td>\n",
       "      <td>6870.0</td>\n",
       "      <td>10820.0</td>\n",
       "      <td>3580.0</td>\n",
       "      <td>2360.0</td>\n",
       "      <td>3560.0</td>\n",
       "      <td>4400.0</td>\n",
       "      <td>4580.0</td>\n",
       "      <td>2250.0</td>\n",
       "      <td>1010.0</td>\n",
       "      <td>3350.0</td>\n",
       "      <td>630.0</td>\n",
       "    </tr>\n",
       "    <tr>\n",
       "      <th>1</th>\n",
       "      <td>North West</td>\n",
       "      <td>E12000002</td>\n",
       "      <td>6670.0</td>\n",
       "      <td>NaN</td>\n",
       "      <td>22930.0</td>\n",
       "      <td>11130.0</td>\n",
       "      <td>15000.0</td>\n",
       "      <td>8020.0</td>\n",
       "      <td>14870.0</td>\n",
       "      <td>12240.0</td>\n",
       "      <td>7570.0</td>\n",
       "      <td>10190.0</td>\n",
       "      <td>6000.0</td>\n",
       "      <td>2150.0</td>\n",
       "    </tr>\n",
       "    <tr>\n",
       "      <th>2</th>\n",
       "      <td>Yorkshire and The Humber</td>\n",
       "      <td>E12000003</td>\n",
       "      <td>10830.0</td>\n",
       "      <td>22050.0</td>\n",
       "      <td>NaN</td>\n",
       "      <td>19280.0</td>\n",
       "      <td>8470.0</td>\n",
       "      <td>9530.0</td>\n",
       "      <td>11230.0</td>\n",
       "      <td>10680.0</td>\n",
       "      <td>5710.0</td>\n",
       "      <td>2910.0</td>\n",
       "      <td>3690.0</td>\n",
       "      <td>620.0</td>\n",
       "    </tr>\n",
       "    <tr>\n",
       "      <th>3</th>\n",
       "      <td>East Midlands</td>\n",
       "      <td>E12000004</td>\n",
       "      <td>3030.0</td>\n",
       "      <td>10300.0</td>\n",
       "      <td>19520.0</td>\n",
       "      <td>NaN</td>\n",
       "      <td>19180.0</td>\n",
       "      <td>20820.0</td>\n",
       "      <td>16010.0</td>\n",
       "      <td>19050.0</td>\n",
       "      <td>6980.0</td>\n",
       "      <td>3140.0</td>\n",
       "      <td>2310.0</td>\n",
       "      <td>540.0</td>\n",
       "    </tr>\n",
       "    <tr>\n",
       "      <th>4</th>\n",
       "      <td>West Midlands</td>\n",
       "      <td>E12000005</td>\n",
       "      <td>2260.0</td>\n",
       "      <td>13440.0</td>\n",
       "      <td>8220.0</td>\n",
       "      <td>17110.0</td>\n",
       "      <td>NaN</td>\n",
       "      <td>9390.0</td>\n",
       "      <td>17760.0</td>\n",
       "      <td>16540.0</td>\n",
       "      <td>13250.0</td>\n",
       "      <td>8260.0</td>\n",
       "      <td>2230.0</td>\n",
       "      <td>540.0</td>\n",
       "    </tr>\n",
       "  </tbody>\n",
       "</table>\n",
       "</div>"
      ],
      "text/plain": [
       "                DESTINATION     Region  E12000001  E12000002  E12000003  \\\n",
       "0                North East  E12000001        NaN     6870.0    10820.0   \n",
       "1                North West  E12000002     6670.0        NaN    22930.0   \n",
       "2  Yorkshire and The Humber  E12000003    10830.0    22050.0        NaN   \n",
       "3             East Midlands  E12000004     3030.0    10300.0    19520.0   \n",
       "4             West Midlands  E12000005     2260.0    13440.0     8220.0   \n",
       "\n",
       "   E12000004  E12000005  E12000006  E12000007  E12000008  E12000009  \\\n",
       "0     3580.0     2360.0     3560.0     4400.0     4580.0     2250.0   \n",
       "1    11130.0    15000.0     8020.0    14870.0    12240.0     7570.0   \n",
       "2    19280.0     8470.0     9530.0    11230.0    10680.0     5710.0   \n",
       "3        NaN    19180.0    20820.0    16010.0    19050.0     6980.0   \n",
       "4    17110.0        NaN     9390.0    17760.0    16540.0    13250.0   \n",
       "\n",
       "   W92000004  S92000003  N92000002  \n",
       "0     1010.0     3350.0      630.0  \n",
       "1    10190.0     6000.0     2150.0  \n",
       "2     2910.0     3690.0      620.0  \n",
       "3     3140.0     2310.0      540.0  \n",
       "4     8260.0     2230.0      540.0  "
      ]
     },
     "execution_count": 34,
     "metadata": {},
     "output_type": "execute_result"
    }
   ],
   "source": [
    "import pandas as pd\n",
    "#Read in the CSV file\n",
    "#If we specify the null character and thousands separator, the flows whould be read in as numerics not strings\n",
    "df=pd.read_csv(\"rdemos/laandregionsquarematrices2015/regionsquarematrix2015.csv\",\n",
    "               skiprows = 8,thousands=',',na_values='-')\n",
    "df.head()"
   ]
  },
  {
   "cell_type": "code",
   "execution_count": 1,
   "metadata": {
    "collapsed": true,
    "deletable": true,
    "editable": true
   },
   "outputs": [],
   "source": [
    "from ipysankeywidget import SankeyWidget"
   ]
  },
  {
   "cell_type": "code",
   "execution_count": 94,
   "metadata": {
    "collapsed": false
   },
   "outputs": [
    {
     "data": {
      "text/html": [
       "<div>\n",
       "<table border=\"1\" class=\"dataframe\">\n",
       "  <thead>\n",
       "    <tr style=\"text-align: right;\">\n",
       "      <th></th>\n",
       "      <th>DESTINATION</th>\n",
       "      <th>target</th>\n",
       "      <th>source</th>\n",
       "      <th>value</th>\n",
       "    </tr>\n",
       "  </thead>\n",
       "  <tbody>\n",
       "    <tr>\n",
       "      <th>0</th>\n",
       "      <td>North East</td>\n",
       "      <td>E12000001_</td>\n",
       "      <td>E12000001</td>\n",
       "      <td>NaN</td>\n",
       "    </tr>\n",
       "    <tr>\n",
       "      <th>1</th>\n",
       "      <td>North West</td>\n",
       "      <td>E12000002_</td>\n",
       "      <td>E12000001</td>\n",
       "      <td>6670.0</td>\n",
       "    </tr>\n",
       "    <tr>\n",
       "      <th>2</th>\n",
       "      <td>Yorkshire and The Humber</td>\n",
       "      <td>E12000003_</td>\n",
       "      <td>E12000001</td>\n",
       "      <td>10830.0</td>\n",
       "    </tr>\n",
       "    <tr>\n",
       "      <th>3</th>\n",
       "      <td>East Midlands</td>\n",
       "      <td>E12000004_</td>\n",
       "      <td>E12000001</td>\n",
       "      <td>3030.0</td>\n",
       "    </tr>\n",
       "    <tr>\n",
       "      <th>4</th>\n",
       "      <td>West Midlands</td>\n",
       "      <td>E12000005_</td>\n",
       "      <td>E12000001</td>\n",
       "      <td>2260.0</td>\n",
       "    </tr>\n",
       "  </tbody>\n",
       "</table>\n",
       "</div>"
      ],
      "text/plain": [
       "                DESTINATION      target     source    value\n",
       "0                North East  E12000001_  E12000001      NaN\n",
       "1                North West  E12000002_  E12000001   6670.0\n",
       "2  Yorkshire and The Humber  E12000003_  E12000001  10830.0\n",
       "3             East Midlands  E12000004_  E12000001   3030.0\n",
       "4             West Midlands  E12000005_  E12000001   2260.0"
      ]
     },
     "execution_count": 94,
     "metadata": {},
     "output_type": "execute_result"
    }
   ],
   "source": [
    "#The widget requires an edgelist with source, target and value columns\n",
    "dfm=pd.melt(df,id_vars=['DESTINATION','Region'], var_name='source', value_name='value')\n",
    "dfm.columns=['DESTINATION','target','source','value']\n",
    "dfm['target']=dfm['target']+'_'\n",
    "dfm.head()"
   ]
  },
  {
   "cell_type": "code",
   "execution_count": 95,
   "metadata": {
    "collapsed": false
   },
   "outputs": [
    {
     "data": {
      "text/plain": [
       "[{'source': 'E12000001', 'target': 'E12000002_', 'value': 6670.0},\n",
       " {'source': 'E12000001', 'target': 'E12000003_', 'value': 10830.0},\n",
       " {'source': 'E12000001', 'target': 'E12000004_', 'value': 3030.0}]"
      ]
     },
     "execution_count": 95,
     "metadata": {},
     "output_type": "execute_result"
    }
   ],
   "source": [
    "#The SankeyWidget function expects a list of dicts, each dict specifying an edge\n",
    "#Also check how to drop rows where the weight is NA\n",
    "dfm.dropna()[['source','target','value']].to_dict(orient='records')[:3]"
   ]
  },
  {
   "cell_type": "code",
   "execution_count": 96,
   "metadata": {
    "collapsed": true
   },
   "outputs": [],
   "source": [
    "#Generate and display default styled Sankey diagram\n",
    "SankeyWidget(value={'links': dfm.dropna()[['source','target','value']].to_dict(orient='records')},\n",
    "             width=800, height=800,margins=dict(top=0, bottom=0))"
   ]
  },
  {
   "cell_type": "markdown",
   "metadata": {},
   "source": [
    "### Adding Colour\n",
    "\n",
    "We can also add a colour mapping to the chart - provide the mapping based on the first letter of the area code:"
   ]
  },
  {
   "cell_type": "code",
   "execution_count": 89,
   "metadata": {
    "collapsed": false
   },
   "outputs": [],
   "source": [
    "colormap={'E':'#ffcc00','N':'green','S':'blue','W':'red'}\n",
    "dfm['color']=dfm['source'].apply(lambda x: colormap[x[0]])\n",
    "SankeyWidget(value={'links': dfm.dropna()[['source','target','value','color']].to_dict(orient='records')},\n",
    "             width=800, height=800,margins=dict(top=0, bottom=0))"
   ]
  },
  {
   "cell_type": "markdown",
   "metadata": {},
   "source": [
    "### Dropping Migration Flows Between Regions of the Same Country\n",
    "\n",
    "The original diagram just showed flows between nations, and did not include intra-nation flows.\n",
    "\n",
    "So let's drop flows between regions of the same country - that is, flows where the leading country code is the same for both the source and the target:"
   ]
  },
  {
   "cell_type": "code",
   "execution_count": 90,
   "metadata": {
    "collapsed": true
   },
   "outputs": [],
   "source": [
    "links=dfm[dfm['source'].str[0]!=dfm['target'].str[0]].dropna()[['source','target','value','color']].to_dict(orient='records')}\n",
    "SankeyWidget(value={'links': links,\n",
    "             width=800, height=800,margins=dict(top=0, bottom=0))"
   ]
  },
  {
   "cell_type": "markdown",
   "metadata": {},
   "source": [
    "### Aggregating Counts For Regions in the Same Country\n",
    "\n",
    "The original diagram aggregated counts for regions within a particular country. So let's do the same...\n",
    "\n",
    "Start by defining a country mapping - we can also use this to label the country nodes rather more meaningfully.\n",
    "\n",
    "Note that to prevent circularity, we distinguish between the source and target nodes by naming them slightly differently: the target node label identifiers have whitespace to distinguish them from the source node label identifiers."
   ]
  },
  {
   "cell_type": "code",
   "execution_count": 91,
   "metadata": {
    "collapsed": false
   },
   "outputs": [],
   "source": [
    "countrymap={'E':'England','N':'Northern Ireland','S':'Scotland','W':'Wales'}\n",
    "dfm['countrysource']=dfm['source'].apply(lambda x: countrymap[x[0]])\n",
    "dfm['countrytarget']=dfm['target'].apply(lambda x: countrymap[x[0]]+' ')"
   ]
  },
  {
   "cell_type": "markdown",
   "metadata": {},
   "source": [
    "Aggregate (sum) the counts on a country-country flow basis, as well as colouring by source country:"
   ]
  },
  {
   "cell_type": "code",
   "execution_count": 92,
   "metadata": {
    "collapsed": false
   },
   "outputs": [
    {
     "data": {
      "text/html": [
       "<div>\n",
       "<table border=\"1\" class=\"dataframe\">\n",
       "  <thead>\n",
       "    <tr style=\"text-align: right;\">\n",
       "      <th></th>\n",
       "      <th>source</th>\n",
       "      <th>target</th>\n",
       "      <th>value</th>\n",
       "      <th>color</th>\n",
       "    </tr>\n",
       "  </thead>\n",
       "  <tbody>\n",
       "    <tr>\n",
       "      <th>0</th>\n",
       "      <td>England</td>\n",
       "      <td>Northern Ireland</td>\n",
       "      <td>8120.0</td>\n",
       "      <td>#ffcc00</td>\n",
       "    </tr>\n",
       "    <tr>\n",
       "      <th>1</th>\n",
       "      <td>England</td>\n",
       "      <td>Scotland</td>\n",
       "      <td>42990.0</td>\n",
       "      <td>#ffcc00</td>\n",
       "    </tr>\n",
       "    <tr>\n",
       "      <th>2</th>\n",
       "      <td>England</td>\n",
       "      <td>Wales</td>\n",
       "      <td>55800.0</td>\n",
       "      <td>#ffcc00</td>\n",
       "    </tr>\n",
       "    <tr>\n",
       "      <th>3</th>\n",
       "      <td>Northern Ireland</td>\n",
       "      <td>England</td>\n",
       "      <td>8350.0</td>\n",
       "      <td>green</td>\n",
       "    </tr>\n",
       "    <tr>\n",
       "      <th>4</th>\n",
       "      <td>Northern Ireland</td>\n",
       "      <td>Scotland</td>\n",
       "      <td>2420.0</td>\n",
       "      <td>green</td>\n",
       "    </tr>\n",
       "    <tr>\n",
       "      <th>5</th>\n",
       "      <td>Northern Ireland</td>\n",
       "      <td>Wales</td>\n",
       "      <td>410.0</td>\n",
       "      <td>green</td>\n",
       "    </tr>\n",
       "    <tr>\n",
       "      <th>6</th>\n",
       "      <td>Scotland</td>\n",
       "      <td>England</td>\n",
       "      <td>35540.0</td>\n",
       "      <td>blue</td>\n",
       "    </tr>\n",
       "    <tr>\n",
       "      <th>7</th>\n",
       "      <td>Scotland</td>\n",
       "      <td>Northern Ireland</td>\n",
       "      <td>1930.0</td>\n",
       "      <td>blue</td>\n",
       "    </tr>\n",
       "    <tr>\n",
       "      <th>8</th>\n",
       "      <td>Scotland</td>\n",
       "      <td>Wales</td>\n",
       "      <td>1320.0</td>\n",
       "      <td>blue</td>\n",
       "    </tr>\n",
       "    <tr>\n",
       "      <th>9</th>\n",
       "      <td>Wales</td>\n",
       "      <td>England</td>\n",
       "      <td>54570.0</td>\n",
       "      <td>red</td>\n",
       "    </tr>\n",
       "    <tr>\n",
       "      <th>10</th>\n",
       "      <td>Wales</td>\n",
       "      <td>Northern Ireland</td>\n",
       "      <td>370.0</td>\n",
       "      <td>red</td>\n",
       "    </tr>\n",
       "    <tr>\n",
       "      <th>11</th>\n",
       "      <td>Wales</td>\n",
       "      <td>Scotland</td>\n",
       "      <td>1740.0</td>\n",
       "      <td>red</td>\n",
       "    </tr>\n",
       "  </tbody>\n",
       "</table>\n",
       "</div>"
      ],
      "text/plain": [
       "              source             target    value    color\n",
       "0            England  Northern Ireland    8120.0  #ffcc00\n",
       "1            England          Scotland   42990.0  #ffcc00\n",
       "2            England             Wales   55800.0  #ffcc00\n",
       "3   Northern Ireland           England    8350.0    green\n",
       "4   Northern Ireland          Scotland    2420.0    green\n",
       "5   Northern Ireland             Wales     410.0    green\n",
       "6           Scotland           England   35540.0     blue\n",
       "7           Scotland  Northern Ireland    1930.0     blue\n",
       "8           Scotland             Wales    1320.0     blue\n",
       "9              Wales           England   54570.0      red\n",
       "10             Wales  Northern Ireland     370.0      red\n",
       "11             Wales          Scotland    1740.0      red"
      ]
     },
     "execution_count": 92,
     "metadata": {},
     "output_type": "execute_result"
    }
   ],
   "source": [
    "dfm2 = dfm[dfm['source'].str[0]!=dfm['target'].str[0]].dropna().groupby(['countrysource','countrytarget']).aggregate(sum).reset_index()\n",
    "dfm2.columns=['source','target','value']\n",
    "dfm2['color']=dfm2['source'].apply(lambda x: colormap[x[0]])\n",
    "dfm2"
   ]
  },
  {
   "cell_type": "markdown",
   "metadata": {},
   "source": [
    "Now we can render this table to give a country-country migrant flow Sankey diagram:"
   ]
  },
  {
   "cell_type": "code",
   "execution_count": 97,
   "metadata": {
    "collapsed": true
   },
   "outputs": [],
   "source": [
    "s=SankeyWidget(value={'links': dfm2.to_dict(orient='records')},\n",
    "             width=800, height=800,margins=dict(top=0, bottom=0,left=150,right=120))\n",
    "s"
   ]
  },
  {
   "cell_type": "markdown",
   "metadata": {},
   "source": [
    "### Generating Outputs\n",
    "\n",
    "One of the under-appreciated benefits that arises from using widget libraries to generate rich interactive outputs for use in live documents is that the generated code can also be reused elsewhere.\n",
    "\n",
    "For example, it's not hard to see the benefits that might arise from being able to generate a flat image rendering of a generated chart such that that image can be reused elsewhere: "
   ]
  },
  {
   "cell_type": "code",
   "execution_count": 108,
   "metadata": {
    "collapsed": false
   },
   "outputs": [],
   "source": [
    "#Save a png version\n",
    "s.save_png('images/mySankey.png')"
   ]
  },
  {
   "cell_type": "markdown",
   "metadata": {},
   "source": [
    "*Render the saved png as an image in a markdown cell:*\n",
    "\n",
    "![](images/mySankey.png)"
   ]
  },
  {
   "cell_type": "markdown",
   "metadata": {},
   "source": [
    "But in many cases we can also render output code.\n",
    "\n",
    "Some widget libraries generate HTML output files (or HTML fragments) from code templates, enriched with suitably formatted data when the output widget is generated.\n",
    "\n",
    "In this case, the widget that is produced is an SVG file - which we can export as such, and then reuse directly elsewhere, or use as a first draft of our own customised version of the output chart:"
   ]
  },
  {
   "cell_type": "code",
   "execution_count": 109,
   "metadata": {
    "collapsed": false
   },
   "outputs": [
    {
     "data": {
      "image/svg+xml": [
       "<svg height=\"800\" style=\"font-family: &quot;Helvetica Neue&quot;, Helvetica, Arial, sans-serif;\" viewBox=\"0 0 800 800\" width=\"800\" xmlns=\"http://www.w3.org/2000/svg\"><g class=\"sankey\" transform=\"translate(150,0)\"><g class=\"groups\"/><g class=\"links\"><path class=\"link\" d=\"M0,359.58999812699005 A197.73440991050055 197.73440991050055 0.5699129516802748 0 0 106.68933314408547,328.33766850119827 L422.23154933466594,126.12378117706204 A199.73440991050055 199.73440991050055 0.5699129516802748 0 1 530,94.55534744334145 L530,96.55534744334145 A197.73440991050055 197.73440991050055 0.5699129516802748 0 0 423.3106668559145,127.80767706913325 L107.76845066533404,330.02156439326944 A199.73440991050055 199.73440991050055 0.5699129516802748 0 1 0,361.58999812699005 Z\" style=\"fill: red; opacity: 0.8;\"><title>Wales → Northern Ireland \n",
       "370</title></path><path class=\"link\" d=\"M0,702.9764000749204 A205.6851410176288 205.6851410176288 0.5392031244184405 0 0 105.60951724263091,673.79340381259 L423.36357807460854,483.6662355967295 A207.6851410176288 207.6851410176288 0.5392031244184405 0 1 530,454.1994755572205 L530,456.1994755572205 A205.6851410176288 205.6851410176288 0.5392031244184405 0 0 424.3904827573691,485.38247181955103 L106.63642192539143,675.5096400354114 A207.6851410176288 207.6851410176288 0.5392031244184405 0 1 0,704.9764000749204 Z\" style=\"fill: green; opacity: 0.8;\"><title>Northern Ireland → Wales \n",
       "410</title></path><path class=\"link\" d=\"M0,550.0206031091965 A444.7841104953744 444.7841104953744 0.22339393096683224 0 0 98.53768908463641,538.9682401018529 L430.91458017041816,463.4569339952308 A447.25648359895183 447.25648359895183 0.22339393096683224 0 1 530,452.34313541861775 L530,454.81550852219516 A444.7841104953744 444.7841104953744 0.22339393096683224 0 0 431.46231091536356,465.8678715295387 L99.08541982958187,541.3791776361609 A447.25648359895183 447.25648359895183 0.22339393096683224 0 1 0,552.4929762127739 Z\" style=\"fill: blue; opacity: 0.8;\"><title>Scotland → Wales \n",
       "1.32k</title></path><path class=\"link\" d=\"M0,360.9365049634763 A431.10096644287324 431.10096644287324 0.23059923988924336 0 0 98.53284312133421,349.5250929467358 L430.7222682485459,271.5351402127879 A434.3600037157708 434.3600037157708 0.23059923988924336 0 1 530,260.03746019853907 L530,263.2964974714366 A431.10096644287324 431.10096644287324 0.23059923988924336 0 0 431.46715687866583,274.7079094881771 L99.27773175145411,352.697862222125 A434.3600037157708 434.3600037157708 0.23059923988924336 0 1 0,364.19554223637385 Z\" style=\"fill: red; opacity: 0.8;\"><title>Wales → Scotland \n",
       "1.74k</title></path><path class=\"link\" d=\"M0,546.4056939501779 A159.29673597914888 159.29673597914888 0.8696416307581348 0 0 121.71828581928096,489.87134890675264 L405.5195700380685,153.71912907344782 A162.91164513816744 162.91164513816744 0.8696416307581348 0 1 530,95.90185427982769 L530,99.51676343884623 A159.29673597914888 159.29673597914888 0.8696416307581348 0 0 408.281714180719,156.05110848227147 L124.48042996193149,492.20332831557624 A162.91164513816744 162.91164513816744 0.8696416307581348 0 1 0,550.0206031091964 Z\" style=\"fill: blue; opacity: 0.8;\"><title>Scotland → Northern Ireland \n",
       "1.93k</title></path><path class=\"link\" d=\"M0,699.0597490166698 A159.79055805780675 159.79055805780675 0.8491285210722697 0 0 119.95556425855834,644.8328449683571 L406.6417273698053,319.0616239566459 A164.32324208103208 164.32324208103208 0.8491285210722697 0 1 530,263.2964974714366 L530,267.82918149466195 A159.79055805780675 159.79055805780675 0.8491285210722697 0 0 410.04443574144165,322.05608554297453 L123.35827263019472,647.8273065546858 A164.32324208103208 164.32324208103208 0.8491285210722697 0 1 0,703.5924330398951 Z\" style=\"fill: green; opacity: 0.8;\"><title>Northern Ireland → Scotland \n",
       "2.42k</title></path><path class=\"link\" d=\"M0,80 A0 0 0 0 0 0,80 L530,80 A0 0 0 0 0 530,80 L530,95.2088406068552 A0 0 0 0 0 530,95.2088406068552 L0,95.2088406068552 A0 0 0 0 0 0,95.2088406068552 Z\" style=\"fill: rgb(255, 204, 0); opacity: 0.8;\"><title>England → Northern Ireland \n",
       "8.12k</title></path><path class=\"link\" d=\"M0,704.3603671099457 A0 0 0 0 0 0,704.3603671099457 L530,704.3603671099457 A0 0 0 0 0 530,704.3603671099457 L530,720.0000000000001 A0 0 0 0 0 530,720.0000000000001 L0,720.0000000000001 A0 0 0 0 0 0,720.0000000000001 Z\" style=\"fill: green; opacity: 0.8;\"><title>Northern Ireland → England \n",
       "8.35k</title></path><path class=\"link\" d=\"M0,552.4929762127739 A540.0373851806704 540.0373851806704 0.1955769372289824 0 1 104.9468181834832,562.7884027513724 L437.98926956565384,628.7672156854669 A473.47061237677457 473.47061237677457 0.1955769372289824 0 0 530,637.7935943060498 L530,704.3603671099457 A540.0373851806704 540.0373851806704 0.1955769372289824 0 1 425.05318181651677,694.0649405713473 L92.01073043434613,628.0861276372527 A473.47061237677457 473.47061237677457 0.1955769372289824 0 0 0,619.0597490166698 Z\" style=\"fill: blue; opacity: 0.8;\"><title>Scotland → England \n",
       "35.5k</title></path><path class=\"link\" d=\"M0,95.2088406068552 A552.681630113096 552.681630113096 0.19333704086567827 0 1 106.18938861794385,105.50610699859872 L439.28144141172976,170.71971529103763 A472.16093335340327 472.16093335340327 0.19333704086567827 0 0 530,179.51676343884623 L530,260.03746019853907 A552.681630113096 552.681630113096 0.19333704086567827 0 1 423.81061138205615,249.7401938067955 L90.71855858827027,184.5265855143566 A472.16093335340327 472.16093335340327 0.19333704086567827 0 0 0,175.72953736654804 Z\" style=\"fill: rgb(255, 204, 0); opacity: 0.8;\"><title>England → Scotland \n",
       "43.0k</title></path><path class=\"link\" d=\"M0,364.19554223637385 A322.65908732224284 322.65908732224284 0.38372722969567885 0 1 120.79686109992103,387.6607041857423 L447.4684969349001,519.5514441800898 A220.44893560843877 220.44893560843877 0.38372722969567885 0 0 530,535.5834425922458 L530,637.79359430605 A322.65908732224284 322.65908732224284 0.38372722969567885 0 1 409.20313890007895,614.3284323566814 L82.53150306509987,482.43769236233396 A220.44893560843877 220.44893560843877 0.38372722969567885 0 0 0,466.4056939501779 Z\" style=\"fill: red; opacity: 0.8;\"><title>Wales → England \n",
       "54.6k</title></path><path class=\"link\" d=\"M0,175.72953736654804 A322.9010178739989 322.9010178739989 0.3852226268691137 0 1 121.33504876427334,199.39340299264177 L447.93768496510313,331.8246418688143 A218.3870639500431 218.3870639500431 0.3852226268691137 0 0 530,347.82918149466195 L530,452.34313541861775 A322.9010178739989 322.9010178739989 0.3852226268691137 0 1 408.6649512357267,428.679269792524 L82.06231503489686,296.24803091635147 A218.3870639500431 218.3870639500431 0.3852226268691137 0 0 0,280.2434912905038 Z\" style=\"fill: rgb(255, 204, 0); opacity: 0.8;\"><title>England → Wales \n",
       "55.8k</title></path></g><g class=\"nodes\"><g class=\"node node-style-default\" style=\"display: inline;\" transform=\"translate(0,80)\"><title>England</title><text dy=\".35em\" style=\"opacity: 1;\" text-anchor=\"end\" transform=\"translate(-4,100.12174564525192)\">England</text><line style=\"stroke: rgb(0, 0, 0); stroke-width: 1px;\" x1=\"0\" x2=\"0\" y1=\"0\" y2=\"200.24349129050384\"/><rect height=\"205.24349129050384\" style=\"fill: none; visibility: hidden; pointer-events: all;\" width=\"10\" x=\"-5\" y=\"-5\"/></g><g class=\"node node-style-default\" style=\"display: inline;\" transform=\"translate(530,80)\"><title>Northern Ireland </title><text dy=\".35em\" style=\"opacity: 1;\" text-anchor=\"start\" transform=\"translate(4,9.758381719423113)\">Northern Ireland </text><line style=\"stroke: rgb(0, 0, 0); stroke-width: 1px;\" x1=\"0\" x2=\"0\" y1=\"0\" y2=\"19.516763438846226\"/><rect height=\"24.516763438846226\" style=\"fill: none; visibility: hidden; pointer-events: all;\" width=\"10\" x=\"-5\" y=\"-5\"/></g><g class=\"node node-style-default\" style=\"display: inline;\" transform=\"translate(530,179.51676343884623)\"><title>Scotland </title><text dy=\".35em\" style=\"opacity: 1;\" text-anchor=\"start\" transform=\"translate(4,44.15620902790785)\">Scotland </text><line style=\"stroke: rgb(0, 0, 0); stroke-width: 1px;\" x1=\"0\" x2=\"0\" y1=\"0\" y2=\"88.3124180558157\"/><rect height=\"93.3124180558157\" style=\"fill: none; visibility: hidden; pointer-events: all;\" width=\"10\" x=\"-5\" y=\"-5\"/></g><g class=\"node node-style-default\" style=\"display: inline;\" transform=\"translate(530,347.82918149466195)\"><title>Wales </title><text dy=\".35em\" style=\"opacity: 1;\" text-anchor=\"start\" transform=\"translate(4,53.87713054879191)\">Wales </text><line style=\"stroke: rgb(0, 0, 0); stroke-width: 1px;\" x1=\"0\" x2=\"0\" y1=\"0\" y2=\"107.75426109758382\"/><rect height=\"112.75426109758382\" style=\"fill: none; visibility: hidden; pointer-events: all;\" width=\"10\" x=\"-5\" y=\"-5\"/></g><g class=\"node node-style-default\" style=\"display: inline;\" transform=\"translate(0,699.0597490166698)\"><title>Northern Ireland</title><text dy=\".35em\" style=\"opacity: 1;\" text-anchor=\"end\" transform=\"translate(-4,10.470125491665106)\">Northern Ireland</text><line style=\"stroke: rgb(0, 0, 0); stroke-width: 1px;\" x1=\"0\" x2=\"0\" y1=\"0\" y2=\"20.940250983330213\"/><rect height=\"25.940250983330213\" style=\"fill: none; visibility: hidden; pointer-events: all;\" width=\"10\" x=\"-5\" y=\"-5\"/></g><g class=\"node node-style-default\" style=\"display: inline;\" transform=\"translate(530,535.5834425922458)\"><title>England </title><text dy=\".35em\" style=\"opacity: 1;\" text-anchor=\"start\" transform=\"translate(4,92.20827870387713)\">England </text><line style=\"stroke: rgb(0, 0, 0); stroke-width: 1px;\" x1=\"0\" x2=\"0\" y1=\"0\" y2=\"184.41655740775425\"/><rect height=\"189.41655740775425\" style=\"fill: none; visibility: hidden; pointer-events: all;\" width=\"10\" x=\"-5\" y=\"-5\"/></g><g class=\"node node-style-default\" style=\"display: inline;\" transform=\"translate(0,546.4056939501779)\"><title>Scotland</title><text dy=\".35em\" style=\"opacity: 1;\" text-anchor=\"end\" transform=\"translate(-4,36.327027533245925)\">Scotland</text><line style=\"stroke: rgb(0, 0, 0); stroke-width: 1px;\" x1=\"0\" x2=\"0\" y1=\"0\" y2=\"72.65405506649185\"/><rect height=\"77.65405506649185\" style=\"fill: none; visibility: hidden; pointer-events: all;\" width=\"10\" x=\"-5\" y=\"-5\"/></g><g class=\"node node-style-default\" style=\"display: inline;\" transform=\"translate(0,360.2434912905038)\"><title>Wales</title><text dy=\".35em\" style=\"opacity: 1;\" text-anchor=\"end\" transform=\"translate(-4,53.08110132983705)\">Wales</text><line style=\"stroke: rgb(0, 0, 0); stroke-width: 1px;\" x1=\"0\" x2=\"0\" y1=\"0\" y2=\"106.1622026596741\"/><rect height=\"111.1622026596741\" style=\"fill: none; visibility: hidden; pointer-events: all;\" width=\"10\" x=\"-5\" y=\"-5\"/></g></g><g class=\"slice-titles\" transform=\"translate(150,0)\"/></g></svg>"
      ],
      "text/plain": [
       "<IPython.core.display.SVG object>"
      ]
     },
     "metadata": {},
     "output_type": "display_data"
    }
   ],
   "source": [
    "#save svg\n",
    "s.save_svg('images/mySankey.svg')\n",
    "\n",
    "from IPython.display import SVG, display\n",
    "display(SVG('images/mySankey.svg'))"
   ]
  }
 ],
 "metadata": {
  "kernelspec": {
   "display_name": "Python 3",
   "language": "python",
   "name": "python3"
  },
  "language_info": {
   "codemirror_mode": {
    "name": "ipython",
    "version": 3
   },
   "file_extension": ".py",
   "mimetype": "text/x-python",
   "name": "python",
   "nbconvert_exporter": "python",
   "pygments_lexer": "ipython3",
   "version": "3.5.1"
  },
  "widgets": {
   "state": {
    "4479ec90cfae4e518fcfa176098da93e": {
     "views": [
      {
       "cell_index": 6
      }
     ]
    },
    "70ce443ee8e04e5dbfb7081e6a047b00": {
     "views": [
      {
       "cell_index": 7
      }
     ]
    },
    "ed868ca8221e4a7b80df2f911dde8e07": {
     "views": [
      {
       "cell_index": 16
      }
     ]
    },
    "f6ae55dbdbfd46348ef39da1f1b9301a": {
     "views": [
      {
       "cell_index": 8
      }
     ]
    }
   },
   "version": "1.2.0"
  }
 },
 "nbformat": 4,
 "nbformat_minor": 2
}
