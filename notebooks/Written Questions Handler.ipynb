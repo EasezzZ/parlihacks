{
 "cells": [
  {
   "cell_type": "markdown",
   "metadata": {},
   "source": [
    "# Example of How to Allocate Written Question Tagging\n",
    "\n",
    "Written Questions are tagged by several indexers in the Parliamentary library on a daily basis, tagging Written Questions tabled the day before. On any given day, each indexer will typically be responsible for tagging all the questions directed at a particular answering body.\n",
    "\n",
    "The following script shows how work can be fairly allocated to particular individuals based on the number of questions sent to each answering body.\n",
    "\n",
    "The allocation also allows particular answering bodies to be allocated to a specific individual, or to be kept away from a particular individual.\n",
    "\n",
    "User input is required in two places:\n",
    "\n",
    "- specifying the day or period questions to be allocated correspond to; (this can be set as a default - eg *yesterday*);\n",
    "- specifying the people available and any requirements on who must or must not tag questions for particular answering bodies."
   ]
  },
  {
   "cell_type": "markdown",
   "metadata": {},
   "source": [
    "## Supporting Code Area ...  NO NEED TO READ THIS"
   ]
  },
  {
   "cell_type": "code",
   "execution_count": 2,
   "metadata": {
    "collapsed": false
   },
   "outputs": [],
   "source": [
    "#Code for loading data in from a URL\n",
    "import requests\n",
    "\n",
    "#Get data from URL\n",
    "def getURL(url):\n",
    "    print(url)\n",
    "    r=requests.get(url)\n",
    "    print(r.status_code)\n",
    "    return r\n",
    "\n",
    "#Should build a proper recursive loader\n",
    "def loader(url):\n",
    "    items=[]\n",
    "    done=False\n",
    "    r=getURL(url)\n",
    "    while not done:\n",
    "        items=items+r.json()['result']['items']\n",
    "        if 'next' in r.json()['result']:\n",
    "            r=getURL(r.json()['result']['next']+'&_pageSize=500')\n",
    "        else: done=True\n",
    "    return items"
   ]
  },
  {
   "cell_type": "code",
   "execution_count": null,
   "metadata": {
    "collapsed": true
   },
   "outputs": [],
   "source": [
    "#A tabluar data analysis package that can make life easier...\n",
    "import pandas as pd"
   ]
  },
  {
   "cell_type": "code",
   "execution_count": 6,
   "metadata": {
    "collapsed": true
   },
   "outputs": [],
   "source": [
    "#Utilities for expressing natural time\n",
    "import datetime\n",
    "from dateutil.relativedelta import relativedelta\n",
    "\n",
    "def today(date=None,iso=False):\n",
    "    if date is None: date=datetime.date.today()\n",
    "    if iso: return date.isoformat()\n",
    "    else: return date\n",
    "\n",
    "def yesterday(date=None,iso=False):\n",
    "    if date is None: date=today()\n",
    "    yesterday = date.today() - relativedelta(days=1)\n",
    "    if iso: return yesterday.isoformat()\n",
    "    return yesterday\n",
    "\n",
    "def tomorrow(date=None,iso=False):\n",
    "    if date is None: date=today()\n",
    "    tomorrow=date.today() + relativedelta(days=1)\n",
    "    if iso: return tomorrow.isoformat()\n",
    "    return tomorrow\n",
    "\n",
    "def last_week(date=None,daterange=True,iso=False):\n",
    "    if date is None: date=today()\n",
    "    start_date = date + relativedelta(days=-date.weekday(), weeks=-1)\n",
    "    end_date = start_date + relativedelta(days=6)\n",
    "    if daterange:\n",
    "        if iso: return start_date.isoformat(),end_date.isoformat()\n",
    "        else: return start_date, end_date\n",
    "\n",
    "def this_week(date=None,daterange=True,iso=False):\n",
    "    if date is None: date=today()\n",
    "    start_date = date + relativedelta(days=-date.weekday())\n",
    "    end_date = start_date + relativedelta(days=6)\n",
    "    if daterange:\n",
    "        if iso:\n",
    "            return start_date.isoformat(), end_date.isoformat()\n",
    "        else:\n",
    "            return start_date, end_date\n",
    "    \n",
    "def next_week(date=None,daterange=True,iso=False):\n",
    "    if date is None: date=today()\n",
    "    start_date = date + relativedelta(days=-date.weekday(), weeks=1)\n",
    "    end_date = start_date + relativedelta(days=6)\n",
    "    if daterange:\n",
    "        if iso:\n",
    "            return start_date.isoformat(), end_date.isoformat()\n",
    "        else:\n",
    "            return start_date, end_date\n",
    "\n",
    "def later_this_week(date=None,incl=False,daterange=True,iso=False):\n",
    "    date=today(date)\n",
    "    start_date, end_date = this_week(date)\n",
    "    if not incl: start_date=tomorrow(date)\n",
    "    else: start_date=today(date)\n",
    "    #Really need to check if today is last day of week?\n",
    "    if daterange:\n",
    "        if iso:\n",
    "            return start_date.isoformat(), end_date.isoformat()\n",
    "        else:\n",
    "            return start_date, end_date\n",
    "        \n",
    "def earlier_this_week(date=None,incl=False,daterange=True,iso=False):\n",
    "    date=today(date)\n",
    "    start_date, end_date = this_week(date)\n",
    "    if not incl: end_date=yesterday(date)\n",
    "    else: end_date=today(date)\n",
    "    #Really need to check if today is first day of week?\n",
    "    if daterange:\n",
    "        if iso:\n",
    "            return start_date.isoformat(), end_date.isoformat()\n",
    "        else:\n",
    "            return start_date, end_date\n",
    "    \n",
    "def last_month(date=None,daterange=True,iso=False):\n",
    "    if date is None: date=today()\n",
    "    end_date = date.replace(day=1)- relativedelta(days=1)\n",
    "    start_date = end_date.replace(day=1)\n",
    "    if daterange:\n",
    "        if iso: return start_date.isoformat(),end_date.isoformat()\n",
    "        else: return start_date, end_date\n",
    "\n",
    "def next_month(date=None,daterange=True,iso=False):\n",
    "    if date is None: date=today()\n",
    "    end_date = date+ relativedelta(months=2)\n",
    "    end_date=end_date.replace(day=1)- relativedelta(days=1)\n",
    "    start_date = end_date.replace(day=1)\n",
    "    if daterange:\n",
    "        if iso: return start_date.isoformat(),end_date.isoformat()\n",
    "        else: return start_date, end_date\n",
    "\n",
    "def this_month(date=None,daterange=True,iso=False):\n",
    "    if date is None: date=today()\n",
    "    end_date = next_month(date)[0]- relativedelta(days=1)\n",
    "    start_date = end_date.replace(day=1)\n",
    "    if daterange:\n",
    "        if iso: return start_date.isoformat(),end_date.isoformat()\n",
    "        else: return start_date, end_date\n",
    "\n",
    "def earlier_this_month(date=None,incl=False,daterange=True,iso=False):\n",
    "    if date is None: date=today()\n",
    "    start_date, end_date = this_month(date)\n",
    "    if not incl: end_date=yesterday(date)\n",
    "    else: end_date=today(date)\n",
    "    #Really need to check if today is first day of month?\n",
    "    if daterange:\n",
    "        if iso:\n",
    "            return start_date.isoformat(), end_date.isoformat()\n",
    "        else:\n",
    "            return start_date, end_date\n",
    "    \n",
    "def later_this_month(date=None,incl=False,daterange=True,iso=False):\n",
    "    if date is None: date=today()\n",
    "    start_date, end_date = this_month(date)\n",
    "    if not incl: start_date=tomorrow(date)\n",
    "    else: start_date=today(date)\n",
    "    #Really need to check if today is last day of month?\n",
    "    if daterange:\n",
    "        if iso:\n",
    "            return start_date.isoformat(), end_date.isoformat()\n",
    "        else:\n",
    "            return start_date, end_date   \n",
    "\n",
    "#via http://stackoverflow.com/a/2384407/454773\n",
    "MON, TUE, WED, THU, FRI, SAT, SUN = range(7)\n",
    "def day_lastweek(day=MON,date=None,iso=False):\n",
    "    if date is None: date=today()\n",
    "    qday= last_week()[0] + relativedelta(days=day)\n",
    "    if iso: return qday.isoformat()\n",
    "    return qday\n",
    "\n",
    "def day_thisweek(day=MON,date=None,iso=False):\n",
    "    if date is None: date=today()\n",
    "    qday= this_week()[0] + relativedelta(days=day)\n",
    "    if iso: return qday.isoformat()\n",
    "    return qday\n",
    "\n",
    "def day_nextweek(day=MON,date=None,iso=False):\n",
    "    if date is None: date=today()\n",
    "    qday= next_week()[0] + relativedelta(days=day)\n",
    "    if iso: return qday.isoformat()\n",
    "    return qday"
   ]
  },
  {
   "cell_type": "code",
   "execution_count": 144,
   "metadata": {
    "collapsed": false
   },
   "outputs": [
    {
     "name": "stdout",
     "output_type": "stream",
     "text": [
      "\n",
      "last_week(iso=True):\t('2017-03-20', '2017-03-26')\n",
      "last_week(iso=True)[0]:\t2017-03-20\n",
      "yesterday(iso=True):\t2017-03-26\n",
      "\n"
     ]
    }
   ],
   "source": [
    "#Example of using the date functions\n",
    "print('''\n",
    "last_week(iso=True):\\t{}\n",
    "last_week(iso=True)[0]:\\t{}\n",
    "yesterday(iso=True):\\t{}\n",
    "'''.format(last_week(iso=True), last_week(iso=True)[0], yesterday(iso=True)))"
   ]
  },
  {
   "cell_type": "markdown",
   "metadata": {},
   "source": [
    "## Identifying the Period You Want to Tag Questions For\n",
    "\n",
    "Department allocation will be based on questions asked on a particular day or since a particular date (and inclusive of that date. (We could also generalise to a period - particular week or month or Parlimanetary session.)"
   ]
  },
  {
   "cell_type": "code",
   "execution_count": null,
   "metadata": {
    "collapsed": true
   },
   "outputs": [],
   "source": [
    "PERIOD = last_week(iso=True)[0] #Last week returns the date of the first day (Monday) and last day (Sunday); pick the first\n",
    "#PERIOD = yesterday(iso=True)\n",
    "\n",
    "#If today is Monday, we maybe need a \"last working day\" or \"since last working day\".\n",
    "#One heuristic may be - if today is not Monday, use yesterday, else use last Friday\n",
    "PERIOD= yesterday(iso=True) if today().strftime('%a')!='Mon' else day_lastweek(day=FRI,iso=True)\n",
    "\n",
    "\n",
    "#If SINCE is True, lookup questions since that date and inclusive of it\n",
    "#If SINCE is False, only lookup questions on that date\n",
    "SINCE=True"
   ]
  },
  {
   "cell_type": "markdown",
   "metadata": {},
   "source": [
    "## Generate the API URL and Load the Data"
   ]
  },
  {
   "cell_type": "code",
   "execution_count": 145,
   "metadata": {
    "collapsed": false
   },
   "outputs": [
    {
     "name": "stdout",
     "output_type": "stream",
     "text": [
      "http://lda.data.parliament.uk/commonswrittenquestions.json?min-dateTabled=2017-03-20\n",
      "200\n",
      "http://lda.data.parliament.uk/commonswrittenquestions.json?_page=1&min-dateTabled=2017-03-20&_pageSize=500\n",
      "200\n"
     ]
    }
   ],
   "source": [
    "#Quick peek at the API\n",
    "\n",
    "#http://lda.data.parliament.uk/commonswrittenquestions.json?_view=Written+Questions&_pageSize=10&_page=0\n",
    "stub='http://lda.data.parliament.uk'.strip('/')\n",
    "\n",
    "if SINCE:\n",
    "    url='{}/{}.json?{}'.format(stub,'commonswrittenquestions','min-dateTabled={}'.format(PERIOD))\n",
    "else:\n",
    "    url='{}/{}.json?dateTabled={}'.format(stub,'commonswrittenquestions',PERIOD)\n",
    "\n",
    "#The API returns a list of written questions on/since the specified date\n",
    "items=loader(url)"
   ]
  },
  {
   "cell_type": "markdown",
   "metadata": {},
   "source": [
    "## Count by Answering Body\n",
    "\n",
    "We can now work through the answers and identify the answering body associated with each."
   ]
  },
  {
   "cell_type": "code",
   "execution_count": 123,
   "metadata": {
    "collapsed": true
   },
   "outputs": [],
   "source": [
    "def getAnsweringBody(item):\n",
    "    rel=[]\n",
    "    for body in item['AnsweringBody']:\n",
    "        rel.append(body['_value'])\n",
    "    return rel"
   ]
  },
  {
   "cell_type": "code",
   "execution_count": 147,
   "metadata": {
    "collapsed": false,
    "scrolled": true
   },
   "outputs": [
    {
     "data": {
      "text/html": [
       "<div>\n",
       "<table border=\"1\" class=\"dataframe\">\n",
       "  <thead>\n",
       "    <tr style=\"text-align: right;\">\n",
       "      <th></th>\n",
       "      <th>Answering Body</th>\n",
       "    </tr>\n",
       "  </thead>\n",
       "  <tbody>\n",
       "    <tr>\n",
       "      <th>0</th>\n",
       "      <td>Attorney General</td>\n",
       "    </tr>\n",
       "    <tr>\n",
       "      <th>1</th>\n",
       "      <td>Cabinet Office</td>\n",
       "    </tr>\n",
       "    <tr>\n",
       "      <th>2</th>\n",
       "      <td>HM Treasury</td>\n",
       "    </tr>\n",
       "    <tr>\n",
       "      <th>3</th>\n",
       "      <td>HM Treasury</td>\n",
       "    </tr>\n",
       "    <tr>\n",
       "      <th>4</th>\n",
       "      <td>HM Treasury</td>\n",
       "    </tr>\n",
       "    <tr>\n",
       "      <th>5</th>\n",
       "      <td>HM Treasury</td>\n",
       "    </tr>\n",
       "    <tr>\n",
       "      <th>6</th>\n",
       "      <td>Department for Communities and Local Government</td>\n",
       "    </tr>\n",
       "    <tr>\n",
       "      <th>7</th>\n",
       "      <td>Department for Communities and Local Government</td>\n",
       "    </tr>\n",
       "    <tr>\n",
       "      <th>8</th>\n",
       "      <td>Department for Communities and Local Government</td>\n",
       "    </tr>\n",
       "    <tr>\n",
       "      <th>9</th>\n",
       "      <td>Department for Communities and Local Government</td>\n",
       "    </tr>\n",
       "  </tbody>\n",
       "</table>\n",
       "</div>"
      ],
      "text/plain": [
       "                                    Answering Body\n",
       "0                                 Attorney General\n",
       "1                                   Cabinet Office\n",
       "2                                      HM Treasury\n",
       "3                                      HM Treasury\n",
       "4                                      HM Treasury\n",
       "5                                      HM Treasury\n",
       "6  Department for Communities and Local Government\n",
       "7  Department for Communities and Local Government\n",
       "8  Department for Communities and Local Government\n",
       "9  Department for Communities and Local Government"
      ]
     },
     "execution_count": 147,
     "metadata": {},
     "output_type": "execute_result"
    }
   ],
   "source": [
    "#Structurally in the API data, it may be the case that a question is directed at several Answering Bodies.\n",
    "#We could treat these as multiple separate requests requiring tagging, once for each body:\n",
    "#rels=[rel for s in [getAnsweringBody(q) for q in items] for rel in s]\n",
    "\n",
    "#Or by default we just go with the first named body\n",
    "rels=[rel for s in [getAnsweringBody(q) for q in items] for rel in s]\n",
    "\n",
    "#Also flag where there were multiple bodies?\n",
    "#multibody=[m for m in [getAnsweringBody(q)  for q in items] if len(m)>1]\n",
    "#if multibody: print(\"Some requests appear to be targeted at multiple bodies:\", m)\n",
    "\n",
    "#Display the answering body for the first few questions\n",
    "df=pd.DataFrame(rels)\n",
    "df.columns=['Answering Body']\n",
    "df.head(10)"
   ]
  },
  {
   "cell_type": "markdown",
   "metadata": {},
   "source": [
    "We want to count the number of question referred to each answering body and allocate on that basis."
   ]
  },
  {
   "cell_type": "code",
   "execution_count": 136,
   "metadata": {
    "collapsed": false
   },
   "outputs": [
    {
     "data": {
      "text/html": [
       "<div>\n",
       "<table border=\"1\" class=\"dataframe\">\n",
       "  <thead>\n",
       "    <tr style=\"text-align: right;\">\n",
       "      <th></th>\n",
       "      <th>Answering Body</th>\n",
       "      <th>Count</th>\n",
       "    </tr>\n",
       "  </thead>\n",
       "  <tbody>\n",
       "    <tr>\n",
       "      <th>18</th>\n",
       "      <td>Ministry of Defence</td>\n",
       "      <td>25</td>\n",
       "    </tr>\n",
       "    <tr>\n",
       "      <th>19</th>\n",
       "      <td>Ministry of Justice</td>\n",
       "      <td>21</td>\n",
       "    </tr>\n",
       "    <tr>\n",
       "      <th>13</th>\n",
       "      <td>Department of Health</td>\n",
       "      <td>21</td>\n",
       "    </tr>\n",
       "    <tr>\n",
       "      <th>6</th>\n",
       "      <td>Department for Education</td>\n",
       "      <td>19</td>\n",
       "    </tr>\n",
       "    <tr>\n",
       "      <th>4</th>\n",
       "      <td>Department for Communities and Local Government</td>\n",
       "      <td>15</td>\n",
       "    </tr>\n",
       "  </tbody>\n",
       "</table>\n",
       "</div>"
      ],
      "text/plain": [
       "                                     Answering Body  Count\n",
       "18                              Ministry of Defence     25\n",
       "19                              Ministry of Justice     21\n",
       "13                             Department of Health     21\n",
       "6                          Department for Education     19\n",
       "4   Department for Communities and Local Government     15"
      ]
     },
     "execution_count": 136,
     "metadata": {},
     "output_type": "execute_result"
    }
   ],
   "source": [
    "dfc=df.groupby('Answering Body').size().rename('Count').reset_index().sort_values('Count',ascending=False)\n",
    "dfc.head()"
   ]
  },
  {
   "cell_type": "code",
   "execution_count": 148,
   "metadata": {
    "collapsed": false
   },
   "outputs": [],
   "source": [
    "#This is a bit of utility code that helps us count how work is allocated\n",
    "#https://github.com/timdiels/chicken_turtle_util/blob/master/chicken_turtle_util/algorithms.py\n",
    "class _handler(object):\n",
    "    def __init__(self,_name):\n",
    "        self._name = _name\n",
    "        self._items = []\n",
    "        self._itemCounts = []\n",
    "        self._count_sum = 0\n",
    "        \n",
    "    def add(self, item, count):\n",
    "        self._items.append(item)\n",
    "        self._itemCounts.append((item,count))\n",
    "        self._count_sum += count\n",
    "    \n",
    "    @property\n",
    "    def name(self):\n",
    "        return self._name\n",
    "    \n",
    "    @property\n",
    "    def items(self):\n",
    "        return (self._items, self._count_sum)\n",
    "    \n",
    "    @property\n",
    "    def itemCounts(self):\n",
    "        return (self._itemCounts, self._count_sum)\n",
    "    \n",
    "    @property\n",
    "    def count_sum(self):\n",
    "        return self._count_sum"
   ]
  },
  {
   "cell_type": "markdown",
   "metadata": {},
   "source": [
    "### YOUR TURN...\n",
    "\n",
    "Who's doing the work? Are there any preferences?"
   ]
  },
  {
   "cell_type": "code",
   "execution_count": 155,
   "metadata": {
    "collapsed": true
   },
   "outputs": [],
   "source": [
    "#List of names of folk doing the work\n",
    "handlers=['Ann','Brian','Claire','David']\n",
    "\n",
    "#Are there any requirements as to whom particular targeted answering bodies will specifically be allocated to?\n",
    "handlerPrefs={'Ann':['Department of Health','Attorney General'],\n",
    "              'David':['Ministry of Defence']}\n",
    "#We should perhaps also check that there are no collisions in prefs\n",
    "#For example, if two or more people have the same pref, randomly pick who will get it?\n",
    "\n",
    "\n",
    "#Are there any requirements as to which particular targeted answering bodies must not be allocated to a particular person?\n",
    "handlerAvoid={'Brian':['HM Treasury']}\n",
    "##We should probably check that a body is not completely avoided... i.e. at least one person exists to handle it"
   ]
  },
  {
   "cell_type": "markdown",
   "metadata": {},
   "source": [
    "## From here on in, it's the machine..."
   ]
  },
  {
   "cell_type": "code",
   "execution_count": 156,
   "metadata": {
    "collapsed": false
   },
   "outputs": [],
   "source": [
    "#This bit of code handles the allocation\n",
    "handlerJobs=[_handler(h) for h in handlers]\n",
    "handled=[]\n",
    "\n",
    "#First of all, allocate according the preferences (actually, we treat these as *required* allocations)\n",
    "for handler_ in handlerJobs: \n",
    "    if handler_.name in handlerPrefs:\n",
    "        for ix,row in dfc[dfc['Answering Body'].isin(handlerPrefs[handler_.name])].iterrows():\n",
    "            #Add a start to an answering body name of the allocation was required\n",
    "            handler_.add(row['Answering Body']+'*',row['Count'])\n",
    "            handled.append(row['Answering Body'])\n",
    "\n",
    "#Allocating the work is an example of a multi-way partition problem.\n",
    "#This sort of problem can be quite hard to solve exactly, but there are heuristics\n",
    "#Eg allocate from largest job to lowest; give next job to person with least load overall\n",
    "for ix,row in dfc[~dfc['Answering Body'].isin(handled)].iterrows():\n",
    "    #Note the 'if not' tweak to the allocation so someone who wants to avoid an answering body actually does so...\n",
    "    handler_ = min(handlerJobs, key=lambda handler_: handler_._count_sum if not (handler_.name in handlerAvoid and row['Answering Body'] in handlerAvoid[handler_.name])  else float('inf')  ) \n",
    "    handler_.add(row['Answering Body'],row['Count'])\n",
    "    "
   ]
  },
  {
   "cell_type": "code",
   "execution_count": 159,
   "metadata": {
    "collapsed": false
   },
   "outputs": [
    {
     "name": "stdout",
     "output_type": "stream",
     "text": [
      "Ann 56 [('Department of Health*', 21), ('Attorney General*', 1), ('Department for International Trade', 15), ('Department for Transport', 9), ('Foreign and Commonwealth Office', 8), ('Leader of the House', 1), ('Northern Ireland Office', 1)] \n",
      "\n",
      "Brian 56 [('Ministry of Justice', 21), ('Department for Environment, Food and Rural Affairs', 15), ('Department for Business, Energy and Industrial Strategy', 12), ('Women and Equalities', 4), ('Department for International Development', 3), ('Scotland Office', 1)] \n",
      "\n",
      "Claire 55 [('Department for Education', 19), ('Department for Communities and Local Government', 15), ('Home Office', 13), ('Department for Work and Pensions', 5), ('Department for Exiting the European Union', 3)] \n",
      "\n",
      "David 55 [('Ministry of Defence*', 25), ('HM Treasury', 14), ('Department for Culture, Media and Sport', 8), ('Cabinet Office', 5), ('Wales Office', 2), ('Church Commissioners', 1)] \n",
      "\n"
     ]
    }
   ],
   "source": [
    "#Quick look at the results\n",
    "for h in handlerJobs:\n",
    "    print(h.name, h.itemCounts[1],h.itemCounts[0],'\\n')                   "
   ]
  },
  {
   "cell_type": "code",
   "execution_count": 166,
   "metadata": {
    "collapsed": false
   },
   "outputs": [
    {
     "name": "stdout",
     "output_type": "stream",
     "text": [
      "----\n",
      "Ann needs to answer 56 questions:\n",
      "\t- 21 from the Department of Health*\n",
      "\t- 1 from the Attorney General*\n",
      "\t- 15 from the Department for International Trade\n",
      "\t- 9 from the Department for Transport\n",
      "\t- 8 from the Foreign and Commonwealth Office\n",
      "\t- 1 from the Leader of the House\n",
      "\t- 1 from the Northern Ireland Office\n",
      "----\n",
      "Brian needs to answer 56 questions:\n",
      "\t- 21 from the Ministry of Justice\n",
      "\t- 15 from the Department for Environment, Food and Rural Affairs\n",
      "\t- 12 from the Department for Business, Energy and Industrial Strategy\n",
      "\t- 4 from the Women and Equalities\n",
      "\t- 3 from the Department for International Development\n",
      "\t- 1 from the Scotland Office\n",
      "----\n",
      "Claire needs to answer 55 questions:\n",
      "\t- 19 from the Department for Education\n",
      "\t- 15 from the Department for Communities and Local Government\n",
      "\t- 13 from the Home Office\n",
      "\t- 5 from the Department for Work and Pensions\n",
      "\t- 3 from the Department for Exiting the European Union\n",
      "----\n",
      "David needs to answer 55 questions:\n",
      "\t- 25 from the Ministry of Defence*\n",
      "\t- 14 from the HM Treasury\n",
      "\t- 8 from the Department for Culture, Media and Sport\n",
      "\t- 5 from the Cabinet Office\n",
      "\t- 2 from the Wales Office\n",
      "\t- 1 from the Church Commissioners\n"
     ]
    }
   ],
   "source": [
    "#Or more prettily...\n",
    "for h in handlerJobs:\n",
    "    abtxt=''.join(['\\n\\t- {} for the {}'.format(b[1], b[0]) for b in h.itemCounts[0]])\n",
    "    print('----\\n{} needs to answer {} questions:{}'.format(h.name, h.itemCounts[1],abtxt))"
   ]
  },
  {
   "cell_type": "code",
   "execution_count": null,
   "metadata": {
    "collapsed": true
   },
   "outputs": [],
   "source": []
  }
 ],
 "metadata": {
  "kernelspec": {
   "display_name": "Python 3",
   "language": "python",
   "name": "python3"
  },
  "language_info": {
   "codemirror_mode": {
    "name": "ipython",
    "version": 3
   },
   "file_extension": ".py",
   "mimetype": "text/x-python",
   "name": "python",
   "nbconvert_exporter": "python",
   "pygments_lexer": "ipython3",
   "version": "3.5.1"
  }
 },
 "nbformat": 4,
 "nbformat_minor": 2
}
